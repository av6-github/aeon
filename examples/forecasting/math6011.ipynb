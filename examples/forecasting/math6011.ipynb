{
 "cells": [
  {
   "cell_type": "markdown",
   "source": [
    "# Notebook to accompany the forecasting module MATH6011M at the University of Southampton.\n",
    "https://www.southampton.ac.uk/courses/modules/math6011\n",
    "\n",
    "aeon is a python toolkit for time series machine learning, including forecasting. We\n",
    "will show you how to use aeon to enhance your understanding of the module. These\n",
    "examples are based on the material provided for the module https://link.springer.com/article/10.1007/s43069-022-00179-z and have been developed in collaboration with the module organiser, Alain Zemkoho.\n",
    "\n",
    "If you have any questions, please join our slack and ask in the #math6011 channel, we\n",
    " are more than happy to help.\n"
   ],
   "metadata": {
    "collapsed": false
   }
  },
  {
   "cell_type": "markdown",
   "source": [
    "## 1. Getting started with aeon\n",
    "\n",
    "Install, environment and import the necessary packages.\n",
    "\n",
    "\n"
   ],
   "metadata": {
    "collapsed": false
   }
  },
  {
   "cell_type": "markdown",
   "source": [
    "## Plotting and basic analysis (Section 2.2)\n",
    "\n",
    "Load data, correlation, etc\n"
   ],
   "metadata": {
    "collapsed": false
   }
  },
  {
   "cell_type": "markdown",
   "source": [
    "## Basic Usage, forecasting horizon, naive forecasting\n",
    "\n",
    "Naive forecasting, MAPE, etc"
   ],
   "metadata": {
    "collapsed": false
   }
  },
  {
   "cell_type": "markdown",
   "source": [
    " ## Performance Metrics (section 3.1)"
   ],
   "metadata": {
    "collapsed": false
   }
  },
  {
   "cell_type": "markdown",
   "source": [
    "## Exponential Smoothing (section 3.2)"
   ],
   "metadata": {
    "collapsed": false
   }
  },
  {
   "cell_type": "markdown",
   "source": [
    "## ARIMA Models (section 4.1)\n"
   ],
   "metadata": {
    "collapsed": false
   }
  },
  {
   "cell_type": "markdown",
   "source": [
    "## Model selection (section 4.2)"
   ],
   "metadata": {
    "collapsed": false
   }
  },
  {
   "cell_type": "markdown",
   "source": [
    "## Regression in forecasting (section 5)"
   ],
   "metadata": {
    "collapsed": false
   }
  },
  {
   "cell_type": "markdown",
   "source": [
    "## Case study:\n",
    "\n",
    "Leo?\n",
    "\n",
    "\n"
   ],
   "metadata": {
    "collapsed": false
   }
  },
  {
   "cell_type": "markdown",
   "source": [],
   "metadata": {
    "collapsed": false
   }
  }
 ],
 "metadata": {
  "kernelspec": {
   "display_name": "Python 3",
   "language": "python",
   "name": "python3"
  },
  "language_info": {
   "codemirror_mode": {
    "name": "ipython",
    "version": 2
   },
   "file_extension": ".py",
   "mimetype": "text/x-python",
   "name": "python",
   "nbconvert_exporter": "python",
   "pygments_lexer": "ipython2",
   "version": "2.7.6"
  }
 },
 "nbformat": 4,
 "nbformat_minor": 0
}
